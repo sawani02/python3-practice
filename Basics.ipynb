{
 "cells": [
  {
   "cell_type": "code",
   "execution_count": 1,
   "metadata": {},
   "outputs": [
    {
     "name": "stdout",
     "output_type": "stream",
     "text": [
      "SawanSoman\n",
      "Sawani Soman\n"
     ]
    }
   ],
   "source": [
    "# Space between two strings.\n",
    "# Difference between with space and without space\n",
    "print(\"Sawan\"+\"Soman\")\n",
    "\n",
    "print(\"Sawani\"+ ' '+ \"Soman\")"
   ]
  },
  {
   "cell_type": "code",
   "execution_count": 4,
   "metadata": {},
   "outputs": [
    {
     "name": "stdout",
     "output_type": "stream",
     "text": [
      "I love python\n",
      "I like to implement projects in Python\n",
      "How are you?\tI am fine\n"
     ]
    }
   ],
   "source": [
    "# /n is new line and /t is tab\n",
    "print(\"I love python\\nI like to implement projects in Python\")\n",
    "\n",
    "print(\"How are you?\\tI am fine\")"
   ]
  },
  {
   "cell_type": "code",
   "execution_count": 6,
   "metadata": {},
   "outputs": [
    {
     "name": "stdout",
     "output_type": "stream",
     "text": [
      "e\n",
      "GeBd\n"
     ]
    }
   ],
   "source": [
    "#String(sequence) data type\n",
    "parrot = \"Green Bird\" \n",
    "\n",
    "# method to index the value, it will print e, index starts from 0\n",
    "print(parrot[3])\n",
    "\n",
    "#Skipping the contents between sequence '::' is used\n",
    "print(parrot[0::3])"
   ]
  },
  {
   "cell_type": "code",
   "execution_count": 8,
   "metadata": {},
   "outputs": [
    {
     "name": "stdout",
     "output_type": "stream",
     "text": [
      "I LOVE python\n"
     ]
    }
   ],
   "source": [
    "# Not a recommended way to print, but it can be done\n",
    "print(\"I \"\"LOVE \"\"python\")"
   ]
  },
  {
   "cell_type": "code",
   "execution_count": 12,
   "metadata": {},
   "outputs": [
    {
     "name": "stdout",
     "output_type": "stream",
     "text": [
      "python python python python python \n",
      "python python python python python python python python python \n",
      "True\n"
     ]
    }
   ],
   "source": [
    "#print word 5 times\n",
    "print(\"python \"*5)\n",
    "print(\"python \"*(5+4))\n",
    "\n",
    "# check specific word \n",
    "today = \"Saturday\"\n",
    "# Returns true\n",
    "print(\"Sat\" in today)"
   ]
  },
  {
   "cell_type": "code",
   "execution_count": 15,
   "metadata": {},
   "outputs": [
    {
     "name": "stdout",
     "output_type": "stream",
     "text": [
      "Sawani and my age is: 25\n",
      "My roll number is 52\n"
     ]
    }
   ],
   "source": [
    "# String Formatting\n",
    "name = \"Sawani and my age is: \"\n",
    "age = 25\n",
    "# If we don't convert the age variable into string, it throws error\n",
    "print(name + str(age))\n",
    "\n",
    "#Other more reliable method in one line\n",
    "print(\"My roll number is {0}\".format(52))"
   ]
  },
  {
   "cell_type": "code",
   "execution_count": 18,
   "metadata": {},
   "outputs": [
    {
     "name": "stdout",
     "output_type": "stream",
     "text": [
      "I love Python 3\n"
     ]
    }
   ],
   "source": [
    "# use of %s for string and %d - int for formatting\n",
    "print(\"I love %s %d\"%(\"Python\", 3))\n"
   ]
  },
  {
   "cell_type": "code",
   "execution_count": 19,
   "metadata": {},
   "outputs": [
    {
     "name": "stdout",
     "output_type": "stream",
     "text": [
      "Number  1 has square    1 and its cube is    1\n",
      "Number  2 has square    4 and its cube is    8\n",
      "Number  3 has square    9 and its cube is   27\n",
      "Number  4 has square   16 and its cube is   64\n",
      "Number  5 has square   25 and its cube is  125\n",
      "Number  6 has square   36 and its cube is  216\n",
      "Number  7 has square   49 and its cube is  343\n",
      "Number  8 has square   64 and its cube is  512\n",
      "Number  9 has square   81 and its cube is  729\n",
      "Number 10 has square  100 and its cube is 1000\n"
     ]
    }
   ],
   "source": [
    "# Perform square and cube root with range function\n",
    "for i in range(1,11):\n",
    "    print(\"Number %2d has square %4d and its cube is %4d\"%(i, i**2, i**3))"
   ]
  },
  {
   "cell_type": "code",
   "execution_count": 20,
   "metadata": {},
   "outputs": [
    {
     "name": "stdout",
     "output_type": "stream",
     "text": [
      "Number  1 has square    1 and its cube is    1\n",
      "Number  2 has square    4 and its cube is    8\n",
      "Number  3 has square    9 and its cube is   27\n",
      "Number  4 has square   16 and its cube is   64\n",
      "Number  5 has square   25 and its cube is  125\n",
      "Number  6 has square   36 and its cube is  216\n",
      "Number  7 has square   49 and its cube is  343\n",
      "Number  8 has square   64 and its cube is  512\n",
      "Number  9 has square   81 and its cube is  729\n",
      "Number 10 has square  100 and its cube is 1000\n"
     ]
    }
   ],
   "source": [
    "# New replacement format\n",
    "for i in range(1, 11):\n",
    "    print(\"Number {0:2} has square {1:4} and its cube is {2:4}\".format(i, i**2, i**3))"
   ]
  },
  {
   "cell_type": "code",
   "execution_count": null,
   "metadata": {
    "collapsed": true
   },
   "outputs": [],
   "source": []
  }
 ],
 "metadata": {
  "kernelspec": {
   "display_name": "Python 3",
   "language": "python",
   "name": "python3"
  },
  "language_info": {
   "codemirror_mode": {
    "name": "ipython",
    "version": 3
   },
   "file_extension": ".py",
   "mimetype": "text/x-python",
   "name": "python",
   "nbconvert_exporter": "python",
   "pygments_lexer": "ipython3",
   "version": "3.6.1"
  }
 },
 "nbformat": 4,
 "nbformat_minor": 2
}
