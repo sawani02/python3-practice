{
 "cells": [
  {
   "cell_type": "markdown",
   "metadata": {},
   "source": [
    "# If statement"
   ]
  },
  {
   "cell_type": "markdown",
   "metadata": {},
   "source": [
    "Challenge - Ask for name and age of the person,   \n",
    "             when both the values are entered, \n",
    "             Check if persons age is between age 18 to 30.\n",
    "             if the condition is true, print a welcome message for person\n",
    "             else, print entry prohibited message for the person."
   ]
  },
  {
   "cell_type": "code",
   "execution_count": 1,
   "metadata": {},
   "outputs": [
    {
     "name": "stdout",
     "output_type": "stream",
     "text": [
      "Enter your name: omkar\n",
      "Enter your age: 28\n",
      "Welcome Onboard omkar\n"
     ]
    }
   ],
   "source": [
    "name = input(\"Enter your name: \")\n",
    "age = int(input(\"Enter your age: \"))\n",
    "\n",
    "# Check the condition, if person's age is between 18 to 30\n",
    "if 18 <= age < 31:\n",
    "    print(\"Welcome Onboard {}\".format(name))\n",
    "    \n",
    "else:\n",
    "    print(\"Sorry! Entry Prohibited {0}\".format(name))\n"
   ]
  },
  {
   "cell_type": "markdown",
   "metadata": {
    "collapsed": true
   },
   "source": [
    "# For loop"
   ]
  },
  {
   "cell_type": "code",
   "execution_count": 8,
   "metadata": {},
   "outputs": [
    {
     "name": "stdout",
     "output_type": "stream",
     "text": [
      "The number is 222193288912\n"
     ]
    }
   ],
   "source": [
    "number = \"22,219,32,88,912\"\n",
    "cleanNumber = ''\n",
    "for i in range(0, len(number)):\n",
    "    #To check how loop is working, it is basically taking commas as well\n",
    "    #print(\"Check the number is {}\".format(i))\n",
    "    \n",
    "    #Logic to check only numbers, avoid commas and end = '' is to end new line.\n",
    "    if number[i] in '0123456789':\n",
    "        cleanNumber += number[i]\n",
    "        \n",
    "newnumber = int(cleanNumber)\n",
    "    #print(number[i], end = '')\n",
    "print(\"The number is {}\".format(newnumber))"
   ]
  },
  {
   "cell_type": "code",
   "execution_count": 13,
   "metadata": {},
   "outputs": [
    {
     "name": "stdout",
     "output_type": "stream",
     "text": [
      "Check the number is 222193288912\n"
     ]
    }
   ],
   "source": [
    "#Reduce the amount of code by not indexing for above example\n",
    "number = \"22,219,32,88,912\"\n",
    "cleanNumber = ''\n",
    "for char in number:\n",
    "    if char in '0123456789':\n",
    "        cleanNumber += char\n",
    "    \n",
    "newNumber = int(cleanNumber)\n",
    "print(\"Check the number is {}\".format(newNumber))\n",
    "    \n"
   ]
  },
  {
   "cell_type": "code",
   "execution_count": 14,
   "metadata": {},
   "outputs": [
    {
     "name": "stdout",
     "output_type": "stream",
     "text": [
      "The value 0\n",
      "The value 5\n",
      "The value 10\n",
      "The value 15\n",
      "The value 20\n",
      "The value 25\n",
      "The value 30\n",
      "The value 35\n",
      "The value 40\n",
      "The value 45\n",
      "The value 50\n",
      "The value 55\n",
      "The value 60\n",
      "The value 65\n",
      "The value 70\n",
      "The value 75\n",
      "The value 80\n",
      "The value 85\n",
      "The value 90\n",
      "The value 95\n",
      "The value 100\n",
      "The value 105\n",
      "The value 110\n",
      "The value 115\n",
      "The value 120\n",
      "The value 125\n",
      "The value 130\n",
      "The value 135\n",
      "The value 140\n",
      "The value 145\n",
      "The value 150\n",
      "The value 155\n",
      "The value 160\n",
      "The value 165\n",
      "The value 170\n",
      "The value 175\n",
      "The value 180\n",
      "The value 185\n",
      "The value 190\n",
      "The value 195\n"
     ]
    }
   ],
   "source": [
    "#Range function\n",
    "\n",
    "#range(start, stop, step)\n",
    "for i in range(0,200,5):\n",
    "    print(\"The value {}\".format(i))"
   ]
  },
  {
   "cell_type": "code",
   "execution_count": 16,
   "metadata": {},
   "outputs": [
    {
     "name": "stdout",
     "output_type": "stream",
     "text": [
      "1 times 1 is 1t2 times 1 is 2t3 times 1 is 3t4 times 1 is 4t5 times 1 is 5t6 times 1 is 6t7 times 1 is 7t8 times 1 is 8t9 times 1 is 9t10 times 1 is 10t1 times 2 is 2t2 times 2 is 4t3 times 2 is 6t4 times 2 is 8t5 times 2 is 10t6 times 2 is 12t7 times 2 is 14t8 times 2 is 16t9 times 2 is 18t10 times 2 is 20t1 times 3 is 3t2 times 3 is 6t3 times 3 is 9t4 times 3 is 12t5 times 3 is 15t6 times 3 is 18t7 times 3 is 21t8 times 3 is 24t9 times 3 is 27t10 times 3 is 30t1 times 4 is 4t2 times 4 is 8t3 times 4 is 12t4 times 4 is 16t5 times 4 is 20t6 times 4 is 24t7 times 4 is 28t8 times 4 is 32t9 times 4 is 36t10 times 4 is 40t1 times 5 is 5t2 times 5 is 10t3 times 5 is 15t4 times 5 is 20t5 times 5 is 25t6 times 5 is 30t7 times 5 is 35t8 times 5 is 40t9 times 5 is 45t10 times 5 is 50t1 times 6 is 6t2 times 6 is 12t3 times 6 is 18t4 times 6 is 24t5 times 6 is 30t6 times 6 is 36t7 times 6 is 42t8 times 6 is 48t9 times 6 is 54t10 times 6 is 60t1 times 7 is 7t2 times 7 is 14t3 times 7 is 21t4 times 7 is 28t5 times 7 is 35t6 times 7 is 42t7 times 7 is 49t8 times 7 is 56t9 times 7 is 63t10 times 7 is 70t1 times 8 is 8t2 times 8 is 16t3 times 8 is 24t4 times 8 is 32t5 times 8 is 40t6 times 8 is 48t7 times 8 is 56t8 times 8 is 64t9 times 8 is 72t10 times 8 is 80t1 times 9 is 9t2 times 9 is 18t3 times 9 is 27t4 times 9 is 36t5 times 9 is 45t6 times 9 is 54t7 times 9 is 63t8 times 9 is 72t9 times 9 is 81t10 times 9 is 90t1 times 10 is 10t2 times 10 is 20t3 times 10 is 30t4 times 10 is 40t5 times 10 is 50t6 times 10 is 60t7 times 10 is 70t8 times 10 is 80t9 times 10 is 90t10 times 10 is 100t"
     ]
    }
   ],
   "source": [
    "for i in range(1,11):\n",
    "    for j in range(1,11):\n",
    "        print(\"{1} times {0} is {2}\".format(i ,j ,i*j), end = 't')"
   ]
  },
  {
   "cell_type": "code",
   "execution_count": 20,
   "metadata": {},
   "outputs": [
    {
     "name": "stdout",
     "output_type": "stream",
     "text": [
      "Skip the chair lamp\n",
      "Skip the chair table\n",
      "Skip the chair bed\n",
      "Skip the chair comforter\n",
      "Skip the chair sheets\n",
      "Skip the chair candles\n"
     ]
    }
   ],
   "source": [
    "# Continue is used to skip or bypass\n",
    "\n",
    "ikea = [\"lamp\", \"table\", \"bed\", \"chair\", \"comforter\", \"sheets\", \"candles\"]\n",
    "\n",
    "for item in ikea:\n",
    "    if item == \"chair\":\n",
    "        continue\n",
    "    print(\"Skip the chair {}\".format(item))"
   ]
  },
  {
   "cell_type": "code",
   "execution_count": 21,
   "metadata": {},
   "outputs": [
    {
     "name": "stdout",
     "output_type": "stream",
     "text": [
      "Use of break lamp\n",
      "Use of break table\n",
      "Use of break bed\n"
     ]
    }
   ],
   "source": [
    "# Break is used to avoid further processing of the loop.\n",
    "ikea = [\"lamp\", \"table\", \"bed\", \"chair\", \"comforter\", \"sheets\", \"candles\"]\n",
    "\n",
    "# execution of chair is stopped after bed\n",
    "for item in ikea:\n",
    "    if item == \"chair\":\n",
    "        break\n",
    "    print(\"Use of break {}\".format(item))"
   ]
  },
  {
   "cell_type": "code",
   "execution_count": 24,
   "metadata": {},
   "outputs": [
    {
     "name": "stdout",
     "output_type": "stream",
     "text": [
      "123.4.5\n",
      "Segment 1 contains 0 characters\n",
      "Segment 2 contains 0 characters\n"
     ]
    }
   ],
   "source": [
    "IP = input()\n",
    "segment = 1\n",
    "segment_length = 0\n",
    "for char in IP:\n",
    "    if char == '.':\n",
    "        print(\"Segment {} contains {} characters\".format(segment, segment_length))\n",
    "        segment += 1\n",
    "        segment_length = 0\n",
    "        "
   ]
  },
  {
   "cell_type": "markdown",
   "metadata": {},
   "source": [
    "Challenge : Take input as ip address and print its length and number of segments."
   ]
  },
  {
   "cell_type": "code",
   "execution_count": 28,
   "metadata": {},
   "outputs": [
    {
     "name": "stdout",
     "output_type": "stream",
     "text": [
      "123.4.5\n",
      "Segment 1 contains 3 characters\n",
      "Segment 2 contains 1 characters\n",
      "Segment 3 contains 1 characters\n"
     ]
    }
   ],
   "source": [
    "IP = input()\n",
    "segment = 1\n",
    "segment_length = 0\n",
    "char = \"\" # to avoid the error, if nothing is enetered while keyboard input\n",
    "for char in IP:\n",
    "    if char == '.':\n",
    "        print(\"Segment {} contains {} characters\".format(segment, segment_length))\n",
    "        segment += 1\n",
    "        segment_length = 0\n",
    "    \n",
    "    # logic for measuring length of the segment\n",
    "    else:\n",
    "        segment_length += 1\n",
    "        \n",
    "# logic for considering number, even if there is no '.' at the end        \n",
    "if char != '.':\n",
    "    print(\"Segment {} contains {} characters\".format(segment, segment_length))"
   ]
  },
  {
   "cell_type": "markdown",
   "metadata": {},
   "source": [
    "# While loops"
   ]
  },
  {
   "cell_type": "code",
   "execution_count": 1,
   "metadata": {},
   "outputs": [
    {
     "name": "stdout",
     "output_type": "stream",
     "text": [
      "the number is 0\n",
      "the number is 1\n",
      "the number is 2\n",
      "the number is 3\n",
      "the number is 4\n",
      "the number is 5\n",
      "the number is 6\n",
      "the number is 7\n",
      "the number is 8\n",
      "the number is 9\n",
      "the number is 10\n"
     ]
    }
   ],
   "source": [
    "#for loop\n",
    "\n",
    "for num in range(10):\n",
    "    print(\"the number is {}\".format(num))\n",
    "    \n",
    "#while loop, not just used for looping, wrote, just to see how while loop works\n",
    "num = 0 \n",
    "while num < 10:\n",
    "    num += 1\n",
    "print(\"the number is {}\".format(num))\n",
    "    \n",
    "    "
   ]
  },
  {
   "cell_type": "code",
   "execution_count": null,
   "metadata": {
    "collapsed": true
   },
   "outputs": [],
   "source": []
  }
 ],
 "metadata": {
  "kernelspec": {
   "display_name": "Python 3",
   "language": "python",
   "name": "python3"
  },
  "language_info": {
   "codemirror_mode": {
    "name": "ipython",
    "version": 3
   },
   "file_extension": ".py",
   "mimetype": "text/x-python",
   "name": "python",
   "nbconvert_exporter": "python",
   "pygments_lexer": "ipython3",
   "version": "3.6.1"
  }
 },
 "nbformat": 4,
 "nbformat_minor": 2
}
