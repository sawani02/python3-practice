{
 "cells": [
  {
   "cell_type": "code",
   "execution_count": 3,
   "metadata": {},
   "outputs": [
    {
     "name": "stdout",
     "output_type": "stream",
     "text": [
      "Library has timings\n",
      "Library has computers\n",
      "Library has chairs\n",
      "Library has internet\n",
      "Library has books\n"
     ]
    }
   ],
   "source": [
    "# Create a list and check append function\n",
    "\n",
    "library = [\"timings\", \"computers\", \"chairs\", \"internet\"]\n",
    "\n",
    "library.append(\"books\")\n",
    "\n",
    "for lib in library:\n",
    "    print(\"Library has \"+ lib)"
   ]
  },
  {
   "cell_type": "code",
   "execution_count": 13,
   "metadata": {},
   "outputs": [
    {
     "name": "stdout",
     "output_type": "stream",
     "text": [
      "[2, 4, 6, 8, 10, 1, 3, 5, 7, 9]\n",
      "[1, 2, 3, 4, 5, 6, 7, 8, 9, 10]\n",
      "None\n",
      "[1, 2, 3, 4, 5, 6, 7, 8, 9, 10]\n"
     ]
    }
   ],
   "source": [
    "# difference between sort and sorted \n",
    "even = [2,4,6,8,10]\n",
    "odd = [1,3,5,7,9]\n",
    "\n",
    "numbers = even + odd\n",
    "print(numbers)\n",
    "\n",
    "# if we want to sort the numbers, we can use sort function\n",
    "numbers.sort()\n",
    "print(numbers)\n",
    "\n",
    "# if we write sort in print statement or take it in the variable\n",
    "numbers_sort = numbers.sort()\n",
    "print(numbers_sort) \n",
    "\n",
    "# instead of sort use sorted, it produces new object\n",
    "numbers_sort = sorted(numbers)\n",
    "print(numbers_sort)"
   ]
  },
  {
   "cell_type": "code",
   "execution_count": 14,
   "metadata": {},
   "outputs": [
    {
     "name": "stdout",
     "output_type": "stream",
     "text": [
      "Numbers are different\n"
     ]
    }
   ],
   "source": [
    "even = [2,4,6,8,10]\n",
    "odd = [1,3,5,7,9]\n",
    "\n",
    "numbers = even + odd\n",
    "numbers_sort = sorted(numbers)\n",
    "\n",
    "# check if sorted numbers are same as numbers\n",
    "if numbers == numbers_sort:\n",
    "    print(\"Numbers are same\")\n",
    "    \n",
    "else:\n",
    "    print(\"Numbers are different\")\n",
    "    \n",
    "#The output is else statement because, even the numbers are same, one is sorted the other one is unsorted\n"
   ]
  },
  {
   "cell_type": "code",
   "execution_count": 16,
   "metadata": {},
   "outputs": [
    {
     "name": "stdout",
     "output_type": "stream",
     "text": [
      "Numbers are same\n"
     ]
    }
   ],
   "source": [
    "even = [2,4,6,8,10]\n",
    "odd = [1,3,5,7,9]\n",
    "\n",
    "numbers = even + odd\n",
    "numbers_sort = sorted(numbers)\n",
    "\n",
    "# check if both numbers are same in list\n",
    "if numbers_sort == sorted(numbers):\n",
    "    print(\"Numbers are same\")\n",
    "    \n",
    "else:\n",
    "    print(\"Numbers are different\")\n",
    "    \n",
    "# As both numbers are sorted and same, they go through if statement\n",
    "    "
   ]
  },
  {
   "cell_type": "code",
   "execution_count": 17,
   "metadata": {},
   "outputs": [
    {
     "name": "stdout",
     "output_type": "stream",
     "text": [
      "list are same\n"
     ]
    }
   ],
   "source": [
    "# method for creating an empty list\n",
    "list_1 = []\n",
    "list_2 = list()\n",
    "\n",
    "# check if list_1 and list_2 are equal\n",
    "if list_1 == list_2:\n",
    "    print(\"list are same\")\n",
    "    \n",
    "else:\n",
    "    print(\"list are different\")"
   ]
  },
  {
   "cell_type": "code",
   "execution_count": 18,
   "metadata": {},
   "outputs": [
    {
     "name": "stdout",
     "output_type": "stream",
     "text": [
      "[[2, 3, 4, 5, 6], [4, 5, 6, 7, 8]]\n"
     ]
    }
   ],
   "source": [
    "# Check what does two list seperated with comma prints\n",
    "\n",
    "number1 = [2,3,4,5,6]\n",
    "number2 = [4,5,6,7,8]\n",
    "numbers = [number1, number2]\n",
    "print(numbers) # it prints list inside list."
   ]
  },
  {
   "cell_type": "code",
   "execution_count": 22,
   "metadata": {},
   "outputs": [
    {
     "name": "stdout",
     "output_type": "stream",
     "text": [
      "['South Indian', 'Beer', 'Onion rings']\n",
      "South Indian\n",
      "Beer\n",
      "Onion rings\n"
     ]
    }
   ],
   "source": [
    "menu = []\n",
    "menu.append([\"Thai\", \"Chicken madira\", \"Panang curry\"])\n",
    "menu.append([\"South Indian\", \"Beer\", \"Onion rings\"])\n",
    "menu.append([\"Whisky\", \"Thai\"])\n",
    "\n",
    "# it will print the list, which do not have Thai option in it\n",
    "for meal in menu:\n",
    "    if not \"Thai\" in meal:\n",
    "        print(meal)\n",
    "        # It will just print, without showing it as a list\n",
    "        for ingredient in meal:\n",
    "            print(ingredient)"
   ]
  },
  {
   "cell_type": "code",
   "execution_count": 20,
   "metadata": {},
   "outputs": [
    {
     "name": "stdout",
     "output_type": "stream",
     "text": [
      "['Thai', 'Chicken madira', 'Panang curry']\n"
     ]
    }
   ],
   "source": [
    "# Shallow copy\n",
    "\n",
    "menu = [\"Thai\", \"Chicken madira\", \"Panang curry\"]\n",
    "hotel = menu\n",
    "print(hotel)"
   ]
  },
  {
   "cell_type": "markdown",
   "metadata": {
    "collapsed": true
   },
   "source": [
    "# Iterators"
   ]
  },
  {
   "cell_type": "code",
   "execution_count": 1,
   "metadata": {},
   "outputs": [
    {
     "name": "stdout",
     "output_type": "stream",
     "text": [
      "menu\n",
      "shopping\n",
      "dancing\n",
      "craft\n",
      "travelling\n"
     ]
    }
   ],
   "source": [
    "string = [\"menu\", \"shopping\", \"dancing\", \"craft\", \"travelling\"]\n",
    "\n",
    "# implicitly calling an iterator\n",
    "for char in string:\n",
    "    print(char) "
   ]
  },
  {
   "cell_type": "code",
   "execution_count": 2,
   "metadata": {},
   "outputs": [
    {
     "name": "stdout",
     "output_type": "stream",
     "text": [
      "<list_iterator object at 0x109d04b00>\n",
      "menu\n",
      "shopping\n",
      "dancing\n",
      "craft\n",
      "travelling\n"
     ]
    }
   ],
   "source": [
    "string = [\"menu\", \"shopping\", \"dancing\", \"craft\", \"travelling\"]\n",
    "my_iterator = iter(string)\n",
    "\n",
    "#that shows the memory location\n",
    "print(my_iterator)\n",
    "\n",
    "# to show the contents, next is used\n",
    "print(next(my_iterator))\n",
    "print(next(my_iterator))\n",
    "print(next(my_iterator))\n",
    "print(next(my_iterator))\n",
    "print(next(my_iterator))"
   ]
  },
  {
   "cell_type": "code",
   "execution_count": 5,
   "metadata": {},
   "outputs": [
    {
     "name": "stdout",
     "output_type": "stream",
     "text": [
      "menu\n",
      "shopping\n",
      "dancing\n",
      "craft\n",
      "travelling\n",
      "menu\n",
      "shopping\n",
      "dancing\n",
      "craft\n",
      "travelling\n"
     ]
    }
   ],
   "source": [
    "string = [\"menu\", \"shopping\", \"dancing\", \"craft\", \"travelling\"]\n",
    "my_iterator = iter(string)\n",
    "\n",
    "for i in range(0, len(string)):\n",
    "    next_item = next(my_iterator)\n",
    "    print(next_item)\n",
    "    \n",
    "    \n",
    "\n",
    "for i in string:\n",
    "    print(i)"
   ]
  },
  {
   "cell_type": "code",
   "execution_count": null,
   "metadata": {
    "collapsed": true
   },
   "outputs": [],
   "source": []
  }
 ],
 "metadata": {
  "kernelspec": {
   "display_name": "Python 3",
   "language": "python",
   "name": "python3"
  },
  "language_info": {
   "codemirror_mode": {
    "name": "ipython",
    "version": 3
   },
   "file_extension": ".py",
   "mimetype": "text/x-python",
   "name": "python",
   "nbconvert_exporter": "python",
   "pygments_lexer": "ipython3",
   "version": "3.6.1"
  }
 },
 "nbformat": 4,
 "nbformat_minor": 2
}
